{
  "nbformat": 4,
  "nbformat_minor": 0,
  "metadata": {
    "colab": {
      "name": "Week4_Data_Visual.ipynb",
      "provenance": [],
      "authorship_tag": "ABX9TyNntfJWmADNO/XdGb+kwWmq",
      "include_colab_link": true
    },
    "kernelspec": {
      "name": "python3",
      "display_name": "Python 3"
    },
    "language_info": {
      "name": "python"
    }
  },
  "cells": [
    {
      "cell_type": "markdown",
      "metadata": {
        "id": "view-in-github",
        "colab_type": "text"
      },
      "source": [
        "<a href=\"https://colab.research.google.com/github/Putranto13/Tugas_Machine_Learning/blob/main/Week4_Data_Visual.ipynb\" target=\"_parent\"><img src=\"https://colab.research.google.com/assets/colab-badge.svg\" alt=\"Open In Colab\"/></a>"
      ]
    },
    {
      "cell_type": "code",
      "metadata": {
        "id": "KejlPahU5lc1"
      },
      "source": [
        "import numpy as np\n",
        "import pandas as pd\n",
        "import matplotlib.pyplot as plt"
      ],
      "execution_count": 1,
      "outputs": []
    },
    {
      "cell_type": "code",
      "metadata": {
        "colab": {
          "base_uri": "https://localhost:8080/",
          "height": 419
        },
        "id": "y15D8r-q5pLR",
        "outputId": "0a51c3f5-5499-4e4d-f593-eddd3975798d"
      },
      "source": [
        "steam = pd.read_csv('/content/AllSteamData.csv')\n",
        "steam"
      ],
      "execution_count": 2,
      "outputs": [
        {
          "output_type": "execute_result",
          "data": {
            "text/html": [
              "<div>\n",
              "<style scoped>\n",
              "    .dataframe tbody tr th:only-of-type {\n",
              "        vertical-align: middle;\n",
              "    }\n",
              "\n",
              "    .dataframe tbody tr th {\n",
              "        vertical-align: top;\n",
              "    }\n",
              "\n",
              "    .dataframe thead th {\n",
              "        text-align: right;\n",
              "    }\n",
              "</style>\n",
              "<table border=\"1\" class=\"dataframe\">\n",
              "  <thead>\n",
              "    <tr style=\"text-align: right;\">\n",
              "      <th></th>\n",
              "      <th>Name</th>\n",
              "      <th>Month</th>\n",
              "      <th>Avg. Players</th>\n",
              "      <th>Gain</th>\n",
              "      <th>% Gain</th>\n",
              "      <th>Peak Players</th>\n",
              "    </tr>\n",
              "  </thead>\n",
              "  <tbody>\n",
              "    <tr>\n",
              "      <th>0</th>\n",
              "      <td>Counter-Strike</td>\n",
              "      <td>Last 30 Days</td>\n",
              "      <td>8488.74</td>\n",
              "      <td>27.6</td>\n",
              "      <td>0.33%</td>\n",
              "      <td>15065</td>\n",
              "    </tr>\n",
              "    <tr>\n",
              "      <th>1</th>\n",
              "      <td>Counter-Strike</td>\n",
              "      <td>Sep-21</td>\n",
              "      <td>8461.12</td>\n",
              "      <td>-390.07</td>\n",
              "      <td>-4.41%</td>\n",
              "      <td>14559</td>\n",
              "    </tr>\n",
              "    <tr>\n",
              "      <th>2</th>\n",
              "      <td>Counter-Strike</td>\n",
              "      <td>Aug-21</td>\n",
              "      <td>8851.19</td>\n",
              "      <td>-286.57</td>\n",
              "      <td>-3.14%</td>\n",
              "      <td>14064</td>\n",
              "    </tr>\n",
              "    <tr>\n",
              "      <th>3</th>\n",
              "      <td>Counter-Strike</td>\n",
              "      <td>Jul-21</td>\n",
              "      <td>9137.76</td>\n",
              "      <td>-359.69</td>\n",
              "      <td>-3.79%</td>\n",
              "      <td>14972</td>\n",
              "    </tr>\n",
              "    <tr>\n",
              "      <th>4</th>\n",
              "      <td>Counter-Strike</td>\n",
              "      <td>Jun-21</td>\n",
              "      <td>9497.45</td>\n",
              "      <td>-1243.5</td>\n",
              "      <td>-11.58%</td>\n",
              "      <td>16391</td>\n",
              "    </tr>\n",
              "    <tr>\n",
              "      <th>...</th>\n",
              "      <td>...</td>\n",
              "      <td>...</td>\n",
              "      <td>...</td>\n",
              "      <td>...</td>\n",
              "      <td>...</td>\n",
              "      <td>...</td>\n",
              "    </tr>\n",
              "    <tr>\n",
              "      <th>878170</th>\n",
              "      <td>Ultra Age Demo</td>\n",
              "      <td>Last 30 Days</td>\n",
              "      <td>5.45</td>\n",
              "      <td>NaN</td>\n",
              "      <td>NaN</td>\n",
              "      <td>35</td>\n",
              "    </tr>\n",
              "    <tr>\n",
              "      <th>878171</th>\n",
              "      <td>Grim Tales: Crimson Hollow Collector's Edition</td>\n",
              "      <td>Last 30 Days</td>\n",
              "      <td>2.40</td>\n",
              "      <td>NaN</td>\n",
              "      <td>NaN</td>\n",
              "      <td>9</td>\n",
              "    </tr>\n",
              "    <tr>\n",
              "      <th>878172</th>\n",
              "      <td>Everyday Life in Hospital VR</td>\n",
              "      <td>Last 30 Days</td>\n",
              "      <td>0.00</td>\n",
              "      <td>NaN</td>\n",
              "      <td>NaN</td>\n",
              "      <td>0</td>\n",
              "    </tr>\n",
              "    <tr>\n",
              "      <th>878173</th>\n",
              "      <td>Martha Is Dead Demo</td>\n",
              "      <td>Last 30 Days</td>\n",
              "      <td>9.03</td>\n",
              "      <td>NaN</td>\n",
              "      <td>NaN</td>\n",
              "      <td>41</td>\n",
              "    </tr>\n",
              "    <tr>\n",
              "      <th>878174</th>\n",
              "      <td>Outbreak Island Demo</td>\n",
              "      <td>Last 30 Days</td>\n",
              "      <td>10.14</td>\n",
              "      <td>NaN</td>\n",
              "      <td>NaN</td>\n",
              "      <td>50</td>\n",
              "    </tr>\n",
              "  </tbody>\n",
              "</table>\n",
              "<p>878175 rows × 6 columns</p>\n",
              "</div>"
            ],
            "text/plain": [
              "                                                  Name  ... Peak Players\n",
              "0                                       Counter-Strike  ...        15065\n",
              "1                                       Counter-Strike  ...        14559\n",
              "2                                       Counter-Strike  ...        14064\n",
              "3                                       Counter-Strike  ...        14972\n",
              "4                                       Counter-Strike  ...        16391\n",
              "...                                                ...  ...          ...\n",
              "878170                                  Ultra Age Demo  ...           35\n",
              "878171  Grim Tales: Crimson Hollow Collector's Edition  ...            9\n",
              "878172                    Everyday Life in Hospital VR  ...            0\n",
              "878173                             Martha Is Dead Demo  ...           41\n",
              "878174                            Outbreak Island Demo  ...           50\n",
              "\n",
              "[878175 rows x 6 columns]"
            ]
          },
          "metadata": {},
          "execution_count": 2
        }
      ]
    },
    {
      "cell_type": "code",
      "metadata": {
        "colab": {
          "base_uri": "https://localhost:8080/"
        },
        "id": "05QoTDDJ5qOe",
        "outputId": "af9e2af1-a8a7-407a-da85-7905ab4d68a6"
      },
      "source": [
        "steam.head"
      ],
      "execution_count": 3,
      "outputs": [
        {
          "output_type": "execute_result",
          "data": {
            "text/plain": [
              "<bound method NDFrame.head of                                                   Name  ... Peak Players\n",
              "0                                       Counter-Strike  ...        15065\n",
              "1                                       Counter-Strike  ...        14559\n",
              "2                                       Counter-Strike  ...        14064\n",
              "3                                       Counter-Strike  ...        14972\n",
              "4                                       Counter-Strike  ...        16391\n",
              "...                                                ...  ...          ...\n",
              "878170                                  Ultra Age Demo  ...           35\n",
              "878171  Grim Tales: Crimson Hollow Collector's Edition  ...            9\n",
              "878172                    Everyday Life in Hospital VR  ...            0\n",
              "878173                             Martha Is Dead Demo  ...           41\n",
              "878174                            Outbreak Island Demo  ...           50\n",
              "\n",
              "[878175 rows x 6 columns]>"
            ]
          },
          "metadata": {},
          "execution_count": 3
        }
      ]
    },
    {
      "cell_type": "code",
      "metadata": {
        "colab": {
          "base_uri": "https://localhost:8080/",
          "height": 293
        },
        "id": "vVAN9-Yj5roN",
        "outputId": "bde836a8-468c-4116-ca53-563cbd25aa95"
      },
      "source": [
        "plt.scatter(steam['Month'], steam['Peak Players'])"
      ],
      "execution_count": 4,
      "outputs": [
        {
          "output_type": "execute_result",
          "data": {
            "text/plain": [
              "<matplotlib.collections.PathCollection at 0x7fec22c329d0>"
            ]
          },
          "metadata": {},
          "execution_count": 4
        },
        {
          "output_type": "display_data",
          "data": {
            "image/png": "[encoded data removed]",
            "text/plain": [
              "<Figure size 432x288 with 1 Axes>"
            ]
          },
          "metadata": {
            "needs_background": "light"
          }
        }
      ]
    },
    {
      "cell_type": "code",
      "metadata": {
        "colab": {
          "base_uri": "https://localhost:8080/",
          "height": 307
        },
        "id": "MJUMAkGK5tdi",
        "outputId": "c0b912ab-7bbe-44b1-e860-eb3139e783f2"
      },
      "source": [
        "steam.plot(x=\"Month\", y=\"Avg. Players\")"
      ],
      "execution_count": 5,
      "outputs": [
        {
          "output_type": "execute_result",
          "data": {
            "text/plain": [
              "<matplotlib.axes._subplots.AxesSubplot at 0x7fec22ae38d0>"
            ]
          },
          "metadata": {},
          "execution_count": 5
        },
        {
          "output_type": "display_data",
          "data": {
            "image/png": "[encoded data removed]",
            "text/plain": [
              "<Figure size 432x288 with 1 Axes>"
            ]
          },
          "metadata": {
            "needs_background": "light"
          }
        }
      ]
    },
    {
      "cell_type": "code",
      "metadata": {
        "id": "DzZkiszW5uff"
      },
      "source": [
        "steam.plot(kind=\"bar\")"
      ],
      "execution_count": null,
      "outputs": []
    }
  ]
}